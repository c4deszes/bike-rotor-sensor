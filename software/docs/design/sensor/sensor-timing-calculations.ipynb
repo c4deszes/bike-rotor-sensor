{
 "cells": [
  {
   "cell_type": "markdown",
   "source": [
    "# Sensor timing calculations"
   ],
   "metadata": {}
  },
  {
   "cell_type": "markdown",
   "source": [
    "This document details the calculation process behind the timer periods used for input capture."
   ],
   "metadata": {}
  },
  {
   "cell_type": "markdown",
   "source": [
    "## Overview\r\n",
    "\r\n",
    "The number of slots on the disc will denoted with `rotor_slots` in all the calculations.\r\n",
    "\r\n",
    "The largest bike wheel has a diameter of around `30\"`, to keep it simple this will be `wheel_diameter`.\r\n",
    "\r\n",
    "The average speed during cycling is `25 km/h`, while highest speeds can be around `40 km/h`. To calculate both the highest and lowest period `velocity_low` and `velocity_high` will be used in the calculations."
   ],
   "metadata": {}
  },
  {
   "cell_type": "markdown",
   "source": [
    "## Period Calculation"
   ],
   "metadata": {}
  },
  {
   "cell_type": "markdown",
   "source": [
    "### Inputs"
   ],
   "metadata": {}
  },
  {
   "cell_type": "code",
   "execution_count": 5,
   "source": [
    "from IPython.display import Latex, Markdown\r\n",
    "rotor_slots = 120        # number of slots\r\n",
    "wheel_diameter = 30     # wheel diameter in inches\r\n",
    "velocity_low = 1        # low speed in km/h\r\n",
    "velocity_high = 50      # high speed in km/h\r\n",
    "\r\n",
    "display(Latex(r'$N_{slots} = $'))"
   ],
   "outputs": [
    {
     "output_type": "display_data",
     "data": {
      "text/latex": [
       "$N_{slots} = $"
      ],
      "text/plain": [
       "<IPython.core.display.Latex object>"
      ]
     },
     "metadata": {}
    }
   ],
   "metadata": {}
  },
  {
   "cell_type": "markdown",
   "source": [
    "### Helping variables"
   ],
   "metadata": {}
  },
  {
   "cell_type": "code",
   "execution_count": 6,
   "source": [
    "wheel_circumference = (wheel_diameter * 2.54) / 100 * 3.141592\r\n",
    "velocity_low_norm = velocity_low / 3.6\r\n",
    "velocity_high_norm = velocity_high / 3.6\r\n",
    "b = Latex('$\\phi$')\r\n",
    "display(b)"
   ],
   "outputs": [
    {
     "output_type": "display_data",
     "data": {
      "text/latex": [
       "$\\phi$"
      ],
      "text/plain": [
       "<IPython.core.display.Latex object>"
      ]
     },
     "metadata": {}
    }
   ],
   "metadata": {}
  },
  {
   "cell_type": "markdown",
   "source": [
    "### Period"
   ],
   "metadata": {}
  },
  {
   "cell_type": "code",
   "execution_count": 7,
   "source": [
    "period_low = 1 / ((velocity_low_norm / wheel_circumference) * rotor_slots)\r\n",
    "period_high = 1 / ((velocity_high_norm / wheel_circumference) * rotor_slots)"
   ],
   "outputs": [],
   "metadata": {}
  },
  {
   "cell_type": "markdown",
   "source": [
    "## Timer period calculation"
   ],
   "metadata": {}
  },
  {
   "cell_type": "markdown",
   "source": [
    "The `TCB0` timer will be used for input capture, in order for input capture to work correctly the period of the timer must be higher than the period of the signal it intends to capture."
   ],
   "metadata": {}
  },
  {
   "cell_type": "code",
   "execution_count": 8,
   "source": [
    "clk_main = 16 * (10 ** 6)\r\n",
    "clk_div = 64\r\n",
    "clk_per = clk_main / clk_div\r\n",
    "\r\n",
    "tcb_div = 1\r\n",
    "tcb_clk = clk_per / tcb_div\r\n",
    "tcb_tick = 1 / tcb_clk\r\n",
    "tcb_period = tcb_tick * 65536"
   ],
   "outputs": [],
   "metadata": {}
  }
 ],
 "metadata": {
  "orig_nbformat": 4,
  "language_info": {
   "name": "python",
   "version": "3.8.3",
   "mimetype": "text/x-python",
   "codemirror_mode": {
    "name": "ipython",
    "version": 3
   },
   "pygments_lexer": "ipython3",
   "nbconvert_exporter": "python",
   "file_extension": ".py"
  },
  "kernelspec": {
   "name": "python3",
   "display_name": "Python 3.8.3 64-bit"
  },
  "interpreter": {
   "hash": "2db524e06e9f5f4ffedc911c917cb75e12dbc923643829bf417064a77eb14d37"
  }
 },
 "nbformat": 4,
 "nbformat_minor": 2
}