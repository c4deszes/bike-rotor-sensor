{
 "cells": [
  {
   "cell_type": "markdown",
   "metadata": {},
   "source": [
    "# Sensor timing calculations"
   ]
  },
  {
   "cell_type": "markdown",
   "metadata": {},
   "source": [
    "This document details the calculation process behind the timer periods used for input capture."
   ]
  },
  {
   "cell_type": "markdown",
   "metadata": {},
   "source": [
    "## Overview\n",
    "\n",
    "The number of slots on the disc will denoted with `rotor_slots` in all the calculations.\n",
    "\n",
    "The largest bike wheel has a diameter of around `30\"`, to keep it simple this will be `wheel_diameter`.\n",
    "\n",
    "The average speed during cycling is `25 km/h`, while highest speeds can be around `40 km/h`. To calculate both the highest and lowest period `velocity_low` and `velocity_high` will be used in the calculations."
   ]
  },
  {
   "cell_type": "markdown",
   "metadata": {},
   "source": [
    "## Period Calculation"
   ]
  },
  {
   "cell_type": "markdown",
   "metadata": {},
   "source": [
    "### Inputs"
   ]
  },
  {
   "cell_type": "code",
   "execution_count": 14,
   "metadata": {},
   "outputs": [
    {
     "data": {
      "text/latex": [
       "$N_{slots} = $"
      ],
      "text/plain": [
       "<IPython.core.display.Latex object>"
      ]
     },
     "metadata": {},
     "output_type": "display_data"
    }
   ],
   "source": [
    "from IPython.display import Latex, Markdown\n",
    "rotor_slots = 30        # number of slots\n",
    "wheel_diameter = 28     # wheel diameter in inches\n",
    "velocity_low = 1        # low speed in km/h\n",
    "velocity_high = 50      # high speed in km/h\n",
    "\n",
    "display(Latex(r'$N_{slots} = $'))"
   ]
  },
  {
   "cell_type": "markdown",
   "metadata": {},
   "source": [
    "### Helping variables"
   ]
  },
  {
   "cell_type": "code",
   "execution_count": 15,
   "metadata": {},
   "outputs": [
    {
     "data": {
      "text/latex": [
       "$\\phi$"
      ],
      "text/plain": [
       "<IPython.core.display.Latex object>"
      ]
     },
     "metadata": {},
     "output_type": "display_data"
    }
   ],
   "source": [
    "wheel_circumference = (wheel_diameter * 2.54) / 100 * 3.141592\n",
    "velocity_low_norm = velocity_low / 3.6\n",
    "velocity_high_norm = velocity_high / 3.6\n",
    "b = Latex('$\\phi$')\n",
    "display(b)"
   ]
  },
  {
   "cell_type": "markdown",
   "metadata": {},
   "source": [
    "### Period"
   ]
  },
  {
   "cell_type": "code",
   "execution_count": 17,
   "metadata": {},
   "outputs": [
    {
     "name": "stdout",
     "output_type": "stream",
     "text": [
      "PeriodLow = 268.116027648 ms\n",
      "PeriodHigh = 5.36232055296 ms\n"
     ]
    }
   ],
   "source": [
    "period_low = 1 / ((velocity_low_norm / wheel_circumference) * rotor_slots)\n",
    "period_high = 1 / ((velocity_high_norm / wheel_circumference) * rotor_slots)\n",
    "print(f\"PeriodLow = {period_low*1000} ms\")\n",
    "print(f\"PeriodHigh = {period_high*1000} ms\")"
   ]
  },
  {
   "cell_type": "markdown",
   "metadata": {},
   "source": [
    "## Timer period calculation"
   ]
  },
  {
   "cell_type": "markdown",
   "metadata": {},
   "source": [
    "The `TCB0` timer will be used for input capture, in order for input capture to work correctly the period of the timer must be higher than the period of the signal it intends to capture."
   ]
  },
  {
   "cell_type": "code",
   "execution_count": 18,
   "metadata": {},
   "outputs": [
    {
     "name": "stdout",
     "output_type": "stream",
     "text": [
      "SYNC High: 524.288 ms, Low: 2.0 ms\n",
      "NO SYNC High: 8.125 ms, Low: 0.0062499999999999995 ms\n"
     ]
    }
   ],
   "source": [
    "clk_main = 16 * (10 ** 6)\n",
    "clk_div = 1\n",
    "\n",
    "tca_div = 256\n",
    "\n",
    "tcb_tick_sync = 1 / (clk_main / (clk_div * tca_div))\n",
    "tcb_high_per_sync = tcb_tick_sync * 32768\n",
    "tcb_low_per_sync = tcb_tick_sync * 125\n",
    "print(f\"SYNC High: {tcb_high_per_sync * 1000} ms, Low: {tcb_low_per_sync * 1000} ms\")\n",
    "\n",
    "tcb_div = 2\n",
    "tcb_tick = 1 / (clk_main / (clk_div * tcb_div))\n",
    "tcb_high_per = tcb_tick * 65000\n",
    "tcb_low_per = tcb_tick * 50\n",
    "print(f\"NO SYNC High: {tcb_high_per * 1000} ms, Low: {tcb_low_per * 1000} ms\")"
   ]
  }
 ],
 "metadata": {
  "kernelspec": {
   "display_name": "Python 3.8.3 64-bit",
   "language": "python",
   "name": "python3"
  },
  "language_info": {
   "codemirror_mode": {
    "name": "ipython",
    "version": 3
   },
   "file_extension": ".py",
   "mimetype": "text/x-python",
   "name": "python",
   "nbconvert_exporter": "python",
   "pygments_lexer": "ipython3",
   "version": "3.8.3"
  },
  "orig_nbformat": 4,
  "vscode": {
   "interpreter": {
    "hash": "9650cb4e16cdd4a8e8e2d128bf38d875813998db22a3c986335f89e0cb4d7bb2"
   }
  }
 },
 "nbformat": 4,
 "nbformat_minor": 2
}
